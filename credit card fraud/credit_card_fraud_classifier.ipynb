{
 "cells": [
  {
   "cell_type": "code",
   "execution_count": 1,
   "metadata": {},
   "outputs": [],
   "source": [
    "import pandas as pd\n",
    "import numpy as np\n",
    "import matplotlib.pyplot as plt\n",
    "import seaborn as sns\n",
    "\n",
    "import category_encoders as ce\n",
    "\n",
    "from sklearn.impute import SimpleImputer\n",
    "from sklearn.compose import ColumnTransformer\n",
    "from sklearn.pipeline import Pipeline\n",
    "from sklearn.preprocessing import MinMaxScaler\n",
    "from sklearn.model_selection import train_test_split\n",
    "from sklearn.linear_model import LogisticRegression\n",
    "from sklearn.ensemble import RandomForestClassifier\n",
    "from sklearn.metrics import confusion_matrix, classification_report, roc_auc_score\n",
    "from xgboost import XGBClassifier\n",
    "\n",
    "from sklearn.compose import ColumnTransformer\n",
    "from hyperopt import Trials, STATUS_OK, tpe, hp, fmin"
   ]
  },
  {
   "cell_type": "code",
   "execution_count": 2,
   "metadata": {},
   "outputs": [
    {
     "name": "stderr",
     "output_type": "stream",
     "text": [
      "C:\\Users\\Edwardus\\Anaconda3\\lib\\site-packages\\IPython\\core\\interactiveshell.py:3058: DtypeWarning: Columns (22) have mixed types. Specify dtype option on import or set low_memory=False.\n",
      "  interactivity=interactivity, compiler=compiler, result=result)\n"
     ]
    },
    {
     "data": {
      "text/html": [
       "<div>\n",
       "<style scoped>\n",
       "    .dataframe tbody tr th:only-of-type {\n",
       "        vertical-align: middle;\n",
       "    }\n",
       "\n",
       "    .dataframe tbody tr th {\n",
       "        vertical-align: top;\n",
       "    }\n",
       "\n",
       "    .dataframe thead th {\n",
       "        text-align: right;\n",
       "    }\n",
       "</style>\n",
       "<table border=\"1\" class=\"dataframe\">\n",
       "  <thead>\n",
       "    <tr style=\"text-align: right;\">\n",
       "      <th></th>\n",
       "      <th>transaction_id</th>\n",
       "      <th>accountNumber</th>\n",
       "      <th>customerId</th>\n",
       "      <th>creditLimit</th>\n",
       "      <th>availableMoney</th>\n",
       "      <th>transactionDateTime</th>\n",
       "      <th>transactionAmount</th>\n",
       "      <th>merchantName</th>\n",
       "      <th>acqCountry</th>\n",
       "      <th>merchantCountryCode</th>\n",
       "      <th>...</th>\n",
       "      <th>isFraud</th>\n",
       "      <th>echoBuffer</th>\n",
       "      <th>currentBalance</th>\n",
       "      <th>merchantCity</th>\n",
       "      <th>merchantState</th>\n",
       "      <th>merchantZip</th>\n",
       "      <th>cardPresent</th>\n",
       "      <th>posOnPremises</th>\n",
       "      <th>recurringAuthInd</th>\n",
       "      <th>expirationDateKeyInMatch</th>\n",
       "    </tr>\n",
       "  </thead>\n",
       "  <tbody>\n",
       "    <tr>\n",
       "      <td>0</td>\n",
       "      <td>5533441</td>\n",
       "      <td>733493772</td>\n",
       "      <td>733493772</td>\n",
       "      <td>5000</td>\n",
       "      <td>5000.0</td>\n",
       "      <td>2016-01-08T19:04:50</td>\n",
       "      <td>111.33</td>\n",
       "      <td>Lyft</td>\n",
       "      <td>US</td>\n",
       "      <td>US</td>\n",
       "      <td>...</td>\n",
       "      <td>True</td>\n",
       "      <td>NaN</td>\n",
       "      <td>0.0</td>\n",
       "      <td>NaN</td>\n",
       "      <td>NaN</td>\n",
       "      <td>NaN</td>\n",
       "      <td>False</td>\n",
       "      <td>NaN</td>\n",
       "      <td>NaN</td>\n",
       "      <td>False</td>\n",
       "    </tr>\n",
       "    <tr>\n",
       "      <td>1</td>\n",
       "      <td>5533442</td>\n",
       "      <td>733493772</td>\n",
       "      <td>733493772</td>\n",
       "      <td>5000</td>\n",
       "      <td>4888.67</td>\n",
       "      <td>2016-01-09T22:32:39</td>\n",
       "      <td>24.75</td>\n",
       "      <td>Uber</td>\n",
       "      <td>US</td>\n",
       "      <td>US</td>\n",
       "      <td>...</td>\n",
       "      <td>False</td>\n",
       "      <td>NaN</td>\n",
       "      <td>111.33</td>\n",
       "      <td>NaN</td>\n",
       "      <td>NaN</td>\n",
       "      <td>NaN</td>\n",
       "      <td>False</td>\n",
       "      <td>NaN</td>\n",
       "      <td>NaN</td>\n",
       "      <td>False</td>\n",
       "    </tr>\n",
       "    <tr>\n",
       "      <td>2</td>\n",
       "      <td>5533443</td>\n",
       "      <td>733493772</td>\n",
       "      <td>733493772</td>\n",
       "      <td>5000</td>\n",
       "      <td>4863.92</td>\n",
       "      <td>2016-01-11T13:36:55</td>\n",
       "      <td>187.4</td>\n",
       "      <td>Lyft</td>\n",
       "      <td>US</td>\n",
       "      <td>US</td>\n",
       "      <td>...</td>\n",
       "      <td>False</td>\n",
       "      <td>NaN</td>\n",
       "      <td>136.08</td>\n",
       "      <td>NaN</td>\n",
       "      <td>NaN</td>\n",
       "      <td>NaN</td>\n",
       "      <td>False</td>\n",
       "      <td>NaN</td>\n",
       "      <td>NaN</td>\n",
       "      <td>False</td>\n",
       "    </tr>\n",
       "    <tr>\n",
       "      <td>3</td>\n",
       "      <td>5533444</td>\n",
       "      <td>733493772</td>\n",
       "      <td>733493772</td>\n",
       "      <td>5000</td>\n",
       "      <td>4676.52</td>\n",
       "      <td>2016-01-11T22:47:46</td>\n",
       "      <td>227.34</td>\n",
       "      <td>Lyft</td>\n",
       "      <td>US</td>\n",
       "      <td>US</td>\n",
       "      <td>...</td>\n",
       "      <td>True</td>\n",
       "      <td>NaN</td>\n",
       "      <td>323.48</td>\n",
       "      <td>NaN</td>\n",
       "      <td>NaN</td>\n",
       "      <td>NaN</td>\n",
       "      <td>False</td>\n",
       "      <td>NaN</td>\n",
       "      <td>NaN</td>\n",
       "      <td>False</td>\n",
       "    </tr>\n",
       "    <tr>\n",
       "      <td>4</td>\n",
       "      <td>5533445</td>\n",
       "      <td>733493772</td>\n",
       "      <td>733493772</td>\n",
       "      <td>5000</td>\n",
       "      <td>4449.18</td>\n",
       "      <td>2016-01-16T01:41:11</td>\n",
       "      <td>0.0</td>\n",
       "      <td>Lyft</td>\n",
       "      <td>US</td>\n",
       "      <td>US</td>\n",
       "      <td>...</td>\n",
       "      <td>False</td>\n",
       "      <td>NaN</td>\n",
       "      <td>550.82</td>\n",
       "      <td>NaN</td>\n",
       "      <td>NaN</td>\n",
       "      <td>NaN</td>\n",
       "      <td>False</td>\n",
       "      <td>NaN</td>\n",
       "      <td>NaN</td>\n",
       "      <td>False</td>\n",
       "    </tr>\n",
       "  </tbody>\n",
       "</table>\n",
       "<p>5 rows × 30 columns</p>\n",
       "</div>"
      ],
      "text/plain": [
       "   transaction_id  accountNumber  customerId  creditLimit availableMoney  \\\n",
       "0         5533441      733493772   733493772         5000         5000.0   \n",
       "1         5533442      733493772   733493772         5000        4888.67   \n",
       "2         5533443      733493772   733493772         5000        4863.92   \n",
       "3         5533444      733493772   733493772         5000        4676.52   \n",
       "4         5533445      733493772   733493772         5000        4449.18   \n",
       "\n",
       "   transactionDateTime transactionAmount merchantName acqCountry  \\\n",
       "0  2016-01-08T19:04:50            111.33         Lyft         US   \n",
       "1  2016-01-09T22:32:39             24.75         Uber         US   \n",
       "2  2016-01-11T13:36:55             187.4         Lyft         US   \n",
       "3  2016-01-11T22:47:46            227.34         Lyft         US   \n",
       "4  2016-01-16T01:41:11               0.0         Lyft         US   \n",
       "\n",
       "  merchantCountryCode  ...  isFraud  echoBuffer currentBalance merchantCity  \\\n",
       "0                  US  ...     True         NaN            0.0          NaN   \n",
       "1                  US  ...    False         NaN         111.33          NaN   \n",
       "2                  US  ...    False         NaN         136.08          NaN   \n",
       "3                  US  ...     True         NaN         323.48          NaN   \n",
       "4                  US  ...    False         NaN         550.82          NaN   \n",
       "\n",
       "  merchantState merchantZip  cardPresent  posOnPremises  recurringAuthInd  \\\n",
       "0           NaN         NaN        False            NaN               NaN   \n",
       "1           NaN         NaN        False            NaN               NaN   \n",
       "2           NaN         NaN        False            NaN               NaN   \n",
       "3           NaN         NaN        False            NaN               NaN   \n",
       "4           NaN         NaN        False            NaN               NaN   \n",
       "\n",
       "  expirationDateKeyInMatch  \n",
       "0                    False  \n",
       "1                    False  \n",
       "2                    False  \n",
       "3                    False  \n",
       "4                    False  \n",
       "\n",
       "[5 rows x 30 columns]"
      ]
     },
     "execution_count": 2,
     "metadata": {},
     "output_type": "execute_result"
    }
   ],
   "source": [
    "df = pd.read_csv('Copy of transactions1.csv', sep=';')\n",
    "df.head()"
   ]
  },
  {
   "cell_type": "code",
   "execution_count": 3,
   "metadata": {},
   "outputs": [],
   "source": [
    "X = df.drop('isFraud', axis=1)\n",
    "y = df['isFraud']"
   ]
  },
  {
   "cell_type": "code",
   "execution_count": 4,
   "metadata": {},
   "outputs": [],
   "source": [
    "X_train, X_test, y_train, y_test = train_test_split(X, y, test_size=0.4, random_state=42)"
   ]
  },
  {
   "cell_type": "code",
   "execution_count": 5,
   "metadata": {},
   "outputs": [],
   "source": [
    "def preprocess(df):\n",
    "\n",
    "    #transfrom datetime column\n",
    "    df['transactionDateTime'] = df['transactionDateTime'].str.replace('T', ' ')\n",
    "    df['transactionDateTime'] = pd.to_datetime(df['transactionDateTime'], format='%Y-%m-%d %H:%M:%S', errors='coerce')\n",
    "    df['currentExpDate'] = pd.to_datetime(df['currentExpDate'], format='%d/%m/%Y', errors='coerce')\n",
    "    df['accountOpenDate'] = pd.to_datetime(df['accountOpenDate'], format='%d/%m/%Y', errors='coerce')\n",
    "    df['dateOfLastAddressChange'] = pd.to_datetime(df['dateOfLastAddressChange'], format='%d/%m/%Y', errors='coerce')\n",
    "\n",
    "    df = df.drop(['echoBuffer', 'merchantCity', 'merchantState', 'merchantZip', 'posOnPremises', 'recurringAuthInd'], axis=1)\n",
    "    \n",
    "    df['merchantCountryCode'] = df['merchantCountryCode'].fillna('unspecified')\n",
    "    df['acqCountry'] = df['acqCountry'].fillna('unspecified')\n",
    "    \n",
    "    #change to numeric, error will be NaN\n",
    "    df['availableMoney'] = pd.to_numeric(df['availableMoney'], errors='coerce')\n",
    "    df['transactionAmount'] = pd.to_numeric(df['transactionAmount'], errors='coerce')\n",
    "    df['currentBalance'] = pd.to_numeric(df['currentBalance'], errors='coerce')\n",
    "    \n",
    "    df.loc[df['availableMoney'].isnull(), 'availableMoney'] = df.loc[df['availableMoney'].isnull(), 'creditLimit'] - df.loc[df['availableMoney'].isnull(), 'currentBalance']\n",
    "    df.loc[df['currentBalance'].isnull(), 'currentBalance'] = df.loc[df['availableMoney'].isnull(), 'creditLimit'] - df.loc[df['availableMoney'].isnull(), 'availableMoney']\n",
    "    \n",
    "    df['transaction_hour'] = df['transactionDateTime'].dt.hour\n",
    "    df['transaction_day'] = df['transactionDateTime'].dt.day\n",
    "    df['transaction_month'] = df['transactionDateTime'].dt.month\n",
    "    \n",
    "    df['address_day'] = df['dateOfLastAddressChange'].dt.day\n",
    "    df['address_month'] = df['dateOfLastAddressChange'].dt.month\n",
    "    \n",
    "    df['open_address_days'] = (df['dateOfLastAddressChange'] - df['accountOpenDate'])\n",
    "    df['open_address_days'] = pd.to_numeric(df['open_address_days'], errors='coerce')\n",
    "    \n",
    "    df['cardPresent_posEntryMode'] = df['cardPresent'] * df['posEntryMode']\n",
    "    df['cardPresent_posConditionCode'] = df['cardPresent'] * df['posConditionCode']\n",
    "    df['merchantCategoryCode_posEntryMode'] = df['merchantCategoryCode'] + '_' + str(df['posEntryMode'])\n",
    "    df['merchantCategoryCode_posConditionCode'] = df['merchantCategoryCode'] + '_' + str(df['posConditionCode'])\n",
    "    \n",
    "    return df"
   ]
  },
  {
   "cell_type": "code",
   "execution_count": 7,
   "metadata": {},
   "outputs": [
    {
     "name": "stderr",
     "output_type": "stream",
     "text": [
      "C:\\Users\\Edwardus\\Anaconda3\\lib\\site-packages\\ipykernel_launcher.py:4: SettingWithCopyWarning: \n",
      "A value is trying to be set on a copy of a slice from a DataFrame.\n",
      "Try using .loc[row_indexer,col_indexer] = value instead\n",
      "\n",
      "See the caveats in the documentation: http://pandas.pydata.org/pandas-docs/stable/user_guide/indexing.html#returning-a-view-versus-a-copy\n",
      "  after removing the cwd from sys.path.\n",
      "C:\\Users\\Edwardus\\Anaconda3\\lib\\site-packages\\ipykernel_launcher.py:5: SettingWithCopyWarning: \n",
      "A value is trying to be set on a copy of a slice from a DataFrame.\n",
      "Try using .loc[row_indexer,col_indexer] = value instead\n",
      "\n",
      "See the caveats in the documentation: http://pandas.pydata.org/pandas-docs/stable/user_guide/indexing.html#returning-a-view-versus-a-copy\n",
      "  \"\"\"\n",
      "C:\\Users\\Edwardus\\Anaconda3\\lib\\site-packages\\ipykernel_launcher.py:6: SettingWithCopyWarning: \n",
      "A value is trying to be set on a copy of a slice from a DataFrame.\n",
      "Try using .loc[row_indexer,col_indexer] = value instead\n",
      "\n",
      "See the caveats in the documentation: http://pandas.pydata.org/pandas-docs/stable/user_guide/indexing.html#returning-a-view-versus-a-copy\n",
      "  \n",
      "C:\\Users\\Edwardus\\Anaconda3\\lib\\site-packages\\ipykernel_launcher.py:7: SettingWithCopyWarning: \n",
      "A value is trying to be set on a copy of a slice from a DataFrame.\n",
      "Try using .loc[row_indexer,col_indexer] = value instead\n",
      "\n",
      "See the caveats in the documentation: http://pandas.pydata.org/pandas-docs/stable/user_guide/indexing.html#returning-a-view-versus-a-copy\n",
      "  import sys\n",
      "C:\\Users\\Edwardus\\Anaconda3\\lib\\site-packages\\ipykernel_launcher.py:8: SettingWithCopyWarning: \n",
      "A value is trying to be set on a copy of a slice from a DataFrame.\n",
      "Try using .loc[row_indexer,col_indexer] = value instead\n",
      "\n",
      "See the caveats in the documentation: http://pandas.pydata.org/pandas-docs/stable/user_guide/indexing.html#returning-a-view-versus-a-copy\n",
      "  \n"
     ]
    },
    {
     "data": {
      "text/html": [
       "<div>\n",
       "<style scoped>\n",
       "    .dataframe tbody tr th:only-of-type {\n",
       "        vertical-align: middle;\n",
       "    }\n",
       "\n",
       "    .dataframe tbody tr th {\n",
       "        vertical-align: top;\n",
       "    }\n",
       "\n",
       "    .dataframe thead th {\n",
       "        text-align: right;\n",
       "    }\n",
       "</style>\n",
       "<table border=\"1\" class=\"dataframe\">\n",
       "  <thead>\n",
       "    <tr style=\"text-align: right;\">\n",
       "      <th></th>\n",
       "      <th>transaction_id</th>\n",
       "      <th>accountNumber</th>\n",
       "      <th>customerId</th>\n",
       "      <th>creditLimit</th>\n",
       "      <th>availableMoney</th>\n",
       "      <th>transactionDateTime</th>\n",
       "      <th>transactionAmount</th>\n",
       "      <th>merchantName</th>\n",
       "      <th>acqCountry</th>\n",
       "      <th>merchantCountryCode</th>\n",
       "      <th>...</th>\n",
       "      <th>transaction_hour</th>\n",
       "      <th>transaction_day</th>\n",
       "      <th>transaction_month</th>\n",
       "      <th>address_day</th>\n",
       "      <th>address_month</th>\n",
       "      <th>open_address_days</th>\n",
       "      <th>cardPresent_posEntryMode</th>\n",
       "      <th>cardPresent_posConditionCode</th>\n",
       "      <th>merchantCategoryCode_posEntryMode</th>\n",
       "      <th>merchantCategoryCode_posConditionCode</th>\n",
       "    </tr>\n",
       "  </thead>\n",
       "  <tbody>\n",
       "    <tr>\n",
       "      <td>602050</td>\n",
       "      <td>6135491</td>\n",
       "      <td>770755172</td>\n",
       "      <td>770755172</td>\n",
       "      <td>20000</td>\n",
       "      <td>5903.86</td>\n",
       "      <td>2016-11-10 16:04:13</td>\n",
       "      <td>36.18</td>\n",
       "      <td>walmart.com</td>\n",
       "      <td>US</td>\n",
       "      <td>US</td>\n",
       "      <td>...</td>\n",
       "      <td>16</td>\n",
       "      <td>10</td>\n",
       "      <td>11</td>\n",
       "      <td>2</td>\n",
       "      <td>2</td>\n",
       "      <td>0</td>\n",
       "      <td>0.0</td>\n",
       "      <td>0.0</td>\n",
       "      <td>online_retail_602050    5.0\\n124673    9.0\\n60...</td>\n",
       "      <td>online_retail_602050    1.0\\n124673    1.0\\n60...</td>\n",
       "    </tr>\n",
       "    <tr>\n",
       "      <td>124673</td>\n",
       "      <td>5658114</td>\n",
       "      <td>596998124</td>\n",
       "      <td>596998124</td>\n",
       "      <td>15000</td>\n",
       "      <td>12219.69</td>\n",
       "      <td>2016-05-08 06:02:26</td>\n",
       "      <td>3.22</td>\n",
       "      <td>South Steakhouse #879581</td>\n",
       "      <td>US</td>\n",
       "      <td>US</td>\n",
       "      <td>...</td>\n",
       "      <td>6</td>\n",
       "      <td>8</td>\n",
       "      <td>5</td>\n",
       "      <td>15</td>\n",
       "      <td>7</td>\n",
       "      <td>0</td>\n",
       "      <td>9.0</td>\n",
       "      <td>1.0</td>\n",
       "      <td>food_602050    5.0\\n124673    9.0\\n605469    5...</td>\n",
       "      <td>food_602050    1.0\\n124673    1.0\\n605469    1...</td>\n",
       "    </tr>\n",
       "    <tr>\n",
       "      <td>605469</td>\n",
       "      <td>6138910</td>\n",
       "      <td>946281748</td>\n",
       "      <td>946281748</td>\n",
       "      <td>500</td>\n",
       "      <td>436.93</td>\n",
       "      <td>2016-01-16 02:58:12</td>\n",
       "      <td>23.30</td>\n",
       "      <td>Universe Massage #114220</td>\n",
       "      <td>US</td>\n",
       "      <td>US</td>\n",
       "      <td>...</td>\n",
       "      <td>2</td>\n",
       "      <td>16</td>\n",
       "      <td>1</td>\n",
       "      <td>17</td>\n",
       "      <td>4</td>\n",
       "      <td>0</td>\n",
       "      <td>5.0</td>\n",
       "      <td>1.0</td>\n",
       "      <td>personal care_602050    5.0\\n124673    9.0\\n60...</td>\n",
       "      <td>personal care_602050    1.0\\n124673    1.0\\n60...</td>\n",
       "    </tr>\n",
       "    <tr>\n",
       "      <td>47726</td>\n",
       "      <td>5581167</td>\n",
       "      <td>419565181</td>\n",
       "      <td>419565181</td>\n",
       "      <td>2500</td>\n",
       "      <td>582.99</td>\n",
       "      <td>2016-06-17 10:33:05</td>\n",
       "      <td>59.44</td>\n",
       "      <td>MyApron</td>\n",
       "      <td>US</td>\n",
       "      <td>US</td>\n",
       "      <td>...</td>\n",
       "      <td>10</td>\n",
       "      <td>17</td>\n",
       "      <td>6</td>\n",
       "      <td>10</td>\n",
       "      <td>10</td>\n",
       "      <td>0</td>\n",
       "      <td>0.0</td>\n",
       "      <td>0.0</td>\n",
       "      <td>food_delivery_602050    5.0\\n124673    9.0\\n60...</td>\n",
       "      <td>food_delivery_602050    1.0\\n124673    1.0\\n60...</td>\n",
       "    </tr>\n",
       "    <tr>\n",
       "      <td>45224</td>\n",
       "      <td>5578665</td>\n",
       "      <td>588397240</td>\n",
       "      <td>588397240</td>\n",
       "      <td>500</td>\n",
       "      <td>449.35</td>\n",
       "      <td>2016-01-27 18:14:11</td>\n",
       "      <td>50.65</td>\n",
       "      <td>Lyft</td>\n",
       "      <td>US</td>\n",
       "      <td>US</td>\n",
       "      <td>...</td>\n",
       "      <td>18</td>\n",
       "      <td>27</td>\n",
       "      <td>1</td>\n",
       "      <td>16</td>\n",
       "      <td>2</td>\n",
       "      <td>0</td>\n",
       "      <td>0.0</td>\n",
       "      <td>0.0</td>\n",
       "      <td>rideshare_602050    5.0\\n124673    9.0\\n605469...</td>\n",
       "      <td>rideshare_602050    1.0\\n124673    1.0\\n605469...</td>\n",
       "    </tr>\n",
       "  </tbody>\n",
       "</table>\n",
       "<p>5 rows × 33 columns</p>\n",
       "</div>"
      ],
      "text/plain": [
       "        transaction_id  accountNumber  customerId  creditLimit  \\\n",
       "602050         6135491      770755172   770755172        20000   \n",
       "124673         5658114      596998124   596998124        15000   \n",
       "605469         6138910      946281748   946281748          500   \n",
       "47726          5581167      419565181   419565181         2500   \n",
       "45224          5578665      588397240   588397240          500   \n",
       "\n",
       "        availableMoney transactionDateTime  transactionAmount  \\\n",
       "602050         5903.86 2016-11-10 16:04:13              36.18   \n",
       "124673        12219.69 2016-05-08 06:02:26               3.22   \n",
       "605469          436.93 2016-01-16 02:58:12              23.30   \n",
       "47726           582.99 2016-06-17 10:33:05              59.44   \n",
       "45224           449.35 2016-01-27 18:14:11              50.65   \n",
       "\n",
       "                    merchantName acqCountry merchantCountryCode  ...  \\\n",
       "602050               walmart.com         US                  US  ...   \n",
       "124673  South Steakhouse #879581         US                  US  ...   \n",
       "605469  Universe Massage #114220         US                  US  ...   \n",
       "47726                    MyApron         US                  US  ...   \n",
       "45224                       Lyft         US                  US  ...   \n",
       "\n",
       "        transaction_hour  transaction_day transaction_month address_day  \\\n",
       "602050                16               10                11           2   \n",
       "124673                 6                8                 5          15   \n",
       "605469                 2               16                 1          17   \n",
       "47726                 10               17                 6          10   \n",
       "45224                 18               27                 1          16   \n",
       "\n",
       "       address_month open_address_days  cardPresent_posEntryMode  \\\n",
       "602050             2                 0                       0.0   \n",
       "124673             7                 0                       9.0   \n",
       "605469             4                 0                       5.0   \n",
       "47726             10                 0                       0.0   \n",
       "45224              2                 0                       0.0   \n",
       "\n",
       "        cardPresent_posConditionCode  \\\n",
       "602050                           0.0   \n",
       "124673                           1.0   \n",
       "605469                           1.0   \n",
       "47726                            0.0   \n",
       "45224                            0.0   \n",
       "\n",
       "                        merchantCategoryCode_posEntryMode  \\\n",
       "602050  online_retail_602050    5.0\\n124673    9.0\\n60...   \n",
       "124673  food_602050    5.0\\n124673    9.0\\n605469    5...   \n",
       "605469  personal care_602050    5.0\\n124673    9.0\\n60...   \n",
       "47726   food_delivery_602050    5.0\\n124673    9.0\\n60...   \n",
       "45224   rideshare_602050    5.0\\n124673    9.0\\n605469...   \n",
       "\n",
       "                    merchantCategoryCode_posConditionCode  \n",
       "602050  online_retail_602050    1.0\\n124673    1.0\\n60...  \n",
       "124673  food_602050    1.0\\n124673    1.0\\n605469    1...  \n",
       "605469  personal care_602050    1.0\\n124673    1.0\\n60...  \n",
       "47726   food_delivery_602050    1.0\\n124673    1.0\\n60...  \n",
       "45224   rideshare_602050    1.0\\n124673    1.0\\n605469...  \n",
       "\n",
       "[5 rows x 33 columns]"
      ]
     },
     "execution_count": 7,
     "metadata": {},
     "output_type": "execute_result"
    }
   ],
   "source": [
    "X_train = preprocess(X_train)\n",
    "X_train.head()"
   ]
  },
  {
   "cell_type": "code",
   "execution_count": 8,
   "metadata": {},
   "outputs": [
    {
     "name": "stderr",
     "output_type": "stream",
     "text": [
      "C:\\Users\\Edwardus\\Anaconda3\\lib\\site-packages\\ipykernel_launcher.py:4: SettingWithCopyWarning: \n",
      "A value is trying to be set on a copy of a slice from a DataFrame.\n",
      "Try using .loc[row_indexer,col_indexer] = value instead\n",
      "\n",
      "See the caveats in the documentation: http://pandas.pydata.org/pandas-docs/stable/user_guide/indexing.html#returning-a-view-versus-a-copy\n",
      "  after removing the cwd from sys.path.\n",
      "C:\\Users\\Edwardus\\Anaconda3\\lib\\site-packages\\ipykernel_launcher.py:5: SettingWithCopyWarning: \n",
      "A value is trying to be set on a copy of a slice from a DataFrame.\n",
      "Try using .loc[row_indexer,col_indexer] = value instead\n",
      "\n",
      "See the caveats in the documentation: http://pandas.pydata.org/pandas-docs/stable/user_guide/indexing.html#returning-a-view-versus-a-copy\n",
      "  \"\"\"\n",
      "C:\\Users\\Edwardus\\Anaconda3\\lib\\site-packages\\ipykernel_launcher.py:6: SettingWithCopyWarning: \n",
      "A value is trying to be set on a copy of a slice from a DataFrame.\n",
      "Try using .loc[row_indexer,col_indexer] = value instead\n",
      "\n",
      "See the caveats in the documentation: http://pandas.pydata.org/pandas-docs/stable/user_guide/indexing.html#returning-a-view-versus-a-copy\n",
      "  \n",
      "C:\\Users\\Edwardus\\Anaconda3\\lib\\site-packages\\ipykernel_launcher.py:7: SettingWithCopyWarning: \n",
      "A value is trying to be set on a copy of a slice from a DataFrame.\n",
      "Try using .loc[row_indexer,col_indexer] = value instead\n",
      "\n",
      "See the caveats in the documentation: http://pandas.pydata.org/pandas-docs/stable/user_guide/indexing.html#returning-a-view-versus-a-copy\n",
      "  import sys\n",
      "C:\\Users\\Edwardus\\Anaconda3\\lib\\site-packages\\ipykernel_launcher.py:8: SettingWithCopyWarning: \n",
      "A value is trying to be set on a copy of a slice from a DataFrame.\n",
      "Try using .loc[row_indexer,col_indexer] = value instead\n",
      "\n",
      "See the caveats in the documentation: http://pandas.pydata.org/pandas-docs/stable/user_guide/indexing.html#returning-a-view-versus-a-copy\n",
      "  \n"
     ]
    },
    {
     "data": {
      "text/html": [
       "<div>\n",
       "<style scoped>\n",
       "    .dataframe tbody tr th:only-of-type {\n",
       "        vertical-align: middle;\n",
       "    }\n",
       "\n",
       "    .dataframe tbody tr th {\n",
       "        vertical-align: top;\n",
       "    }\n",
       "\n",
       "    .dataframe thead th {\n",
       "        text-align: right;\n",
       "    }\n",
       "</style>\n",
       "<table border=\"1\" class=\"dataframe\">\n",
       "  <thead>\n",
       "    <tr style=\"text-align: right;\">\n",
       "      <th></th>\n",
       "      <th>transaction_id</th>\n",
       "      <th>accountNumber</th>\n",
       "      <th>customerId</th>\n",
       "      <th>creditLimit</th>\n",
       "      <th>availableMoney</th>\n",
       "      <th>transactionDateTime</th>\n",
       "      <th>transactionAmount</th>\n",
       "      <th>merchantName</th>\n",
       "      <th>acqCountry</th>\n",
       "      <th>merchantCountryCode</th>\n",
       "      <th>...</th>\n",
       "      <th>transaction_hour</th>\n",
       "      <th>transaction_day</th>\n",
       "      <th>transaction_month</th>\n",
       "      <th>address_day</th>\n",
       "      <th>address_month</th>\n",
       "      <th>open_address_days</th>\n",
       "      <th>cardPresent_posEntryMode</th>\n",
       "      <th>cardPresent_posConditionCode</th>\n",
       "      <th>merchantCategoryCode_posEntryMode</th>\n",
       "      <th>merchantCategoryCode_posConditionCode</th>\n",
       "    </tr>\n",
       "  </thead>\n",
       "  <tbody>\n",
       "    <tr>\n",
       "      <td>477945</td>\n",
       "      <td>6011386</td>\n",
       "      <td>871701939</td>\n",
       "      <td>871701939</td>\n",
       "      <td>15000</td>\n",
       "      <td>11552.59</td>\n",
       "      <td>2016-07-23 00:20:32</td>\n",
       "      <td>420.67</td>\n",
       "      <td>Mobile eCards</td>\n",
       "      <td>US</td>\n",
       "      <td>US</td>\n",
       "      <td>...</td>\n",
       "      <td>0</td>\n",
       "      <td>23</td>\n",
       "      <td>7</td>\n",
       "      <td>7</td>\n",
       "      <td>1</td>\n",
       "      <td>0</td>\n",
       "      <td>0.0</td>\n",
       "      <td>0.0</td>\n",
       "      <td>online_gifts_477945    9.0\\n531502    9.0\\n139...</td>\n",
       "      <td>online_gifts_477945    1.0\\n531502    1.0\\n139...</td>\n",
       "    </tr>\n",
       "    <tr>\n",
       "      <td>531502</td>\n",
       "      <td>6064943</td>\n",
       "      <td>318001076</td>\n",
       "      <td>318001076</td>\n",
       "      <td>50000</td>\n",
       "      <td>12918.72</td>\n",
       "      <td>2016-03-12 08:26:30</td>\n",
       "      <td>1.46</td>\n",
       "      <td>Burger King #446273</td>\n",
       "      <td>US</td>\n",
       "      <td>US</td>\n",
       "      <td>...</td>\n",
       "      <td>8</td>\n",
       "      <td>12</td>\n",
       "      <td>3</td>\n",
       "      <td>7</td>\n",
       "      <td>3</td>\n",
       "      <td>7516800000000000</td>\n",
       "      <td>9.0</td>\n",
       "      <td>1.0</td>\n",
       "      <td>fastfood_477945    9.0\\n531502    9.0\\n139612 ...</td>\n",
       "      <td>fastfood_477945    1.0\\n531502    1.0\\n139612 ...</td>\n",
       "    </tr>\n",
       "    <tr>\n",
       "      <td>139612</td>\n",
       "      <td>5673053</td>\n",
       "      <td>803896888</td>\n",
       "      <td>803896888</td>\n",
       "      <td>15000</td>\n",
       "      <td>10991.56</td>\n",
       "      <td>2016-07-28 03:08:49</td>\n",
       "      <td>527.03</td>\n",
       "      <td>Fresh Flowers</td>\n",
       "      <td>US</td>\n",
       "      <td>US</td>\n",
       "      <td>...</td>\n",
       "      <td>3</td>\n",
       "      <td>28</td>\n",
       "      <td>7</td>\n",
       "      <td>18</td>\n",
       "      <td>12</td>\n",
       "      <td>0</td>\n",
       "      <td>0.0</td>\n",
       "      <td>0.0</td>\n",
       "      <td>online_gifts_477945    9.0\\n531502    9.0\\n139...</td>\n",
       "      <td>online_gifts_477945    1.0\\n531502    1.0\\n139...</td>\n",
       "    </tr>\n",
       "    <tr>\n",
       "      <td>342805</td>\n",
       "      <td>5876246</td>\n",
       "      <td>322865480</td>\n",
       "      <td>322865480</td>\n",
       "      <td>15000</td>\n",
       "      <td>15000.00</td>\n",
       "      <td>2016-01-06 22:05:31</td>\n",
       "      <td>17.54</td>\n",
       "      <td>Arbys #599566</td>\n",
       "      <td>US</td>\n",
       "      <td>US</td>\n",
       "      <td>...</td>\n",
       "      <td>22</td>\n",
       "      <td>6</td>\n",
       "      <td>1</td>\n",
       "      <td>18</td>\n",
       "      <td>7</td>\n",
       "      <td>0</td>\n",
       "      <td>2.0</td>\n",
       "      <td>1.0</td>\n",
       "      <td>fastfood_477945    9.0\\n531502    9.0\\n139612 ...</td>\n",
       "      <td>fastfood_477945    1.0\\n531502    1.0\\n139612 ...</td>\n",
       "    </tr>\n",
       "    <tr>\n",
       "      <td>275697</td>\n",
       "      <td>5809138</td>\n",
       "      <td>892489502</td>\n",
       "      <td>892489502</td>\n",
       "      <td>15000</td>\n",
       "      <td>15000.00</td>\n",
       "      <td>2016-12-13 22:40:51</td>\n",
       "      <td>3.93</td>\n",
       "      <td>Apple iTunes</td>\n",
       "      <td>US</td>\n",
       "      <td>US</td>\n",
       "      <td>...</td>\n",
       "      <td>22</td>\n",
       "      <td>13</td>\n",
       "      <td>12</td>\n",
       "      <td>2</td>\n",
       "      <td>10</td>\n",
       "      <td>0</td>\n",
       "      <td>0.0</td>\n",
       "      <td>0.0</td>\n",
       "      <td>mobileapps_477945    9.0\\n531502    9.0\\n13961...</td>\n",
       "      <td>mobileapps_477945    1.0\\n531502    1.0\\n13961...</td>\n",
       "    </tr>\n",
       "  </tbody>\n",
       "</table>\n",
       "<p>5 rows × 33 columns</p>\n",
       "</div>"
      ],
      "text/plain": [
       "        transaction_id  accountNumber  customerId  creditLimit  \\\n",
       "477945         6011386      871701939   871701939        15000   \n",
       "531502         6064943      318001076   318001076        50000   \n",
       "139612         5673053      803896888   803896888        15000   \n",
       "342805         5876246      322865480   322865480        15000   \n",
       "275697         5809138      892489502   892489502        15000   \n",
       "\n",
       "        availableMoney transactionDateTime  transactionAmount  \\\n",
       "477945        11552.59 2016-07-23 00:20:32             420.67   \n",
       "531502        12918.72 2016-03-12 08:26:30               1.46   \n",
       "139612        10991.56 2016-07-28 03:08:49             527.03   \n",
       "342805        15000.00 2016-01-06 22:05:31              17.54   \n",
       "275697        15000.00 2016-12-13 22:40:51               3.93   \n",
       "\n",
       "               merchantName acqCountry merchantCountryCode  ...  \\\n",
       "477945        Mobile eCards         US                  US  ...   \n",
       "531502  Burger King #446273         US                  US  ...   \n",
       "139612        Fresh Flowers         US                  US  ...   \n",
       "342805        Arbys #599566         US                  US  ...   \n",
       "275697         Apple iTunes         US                  US  ...   \n",
       "\n",
       "        transaction_hour  transaction_day transaction_month address_day  \\\n",
       "477945                 0               23                 7           7   \n",
       "531502                 8               12                 3           7   \n",
       "139612                 3               28                 7          18   \n",
       "342805                22                6                 1          18   \n",
       "275697                22               13                12           2   \n",
       "\n",
       "       address_month open_address_days  cardPresent_posEntryMode  \\\n",
       "477945             1                 0                       0.0   \n",
       "531502             3  7516800000000000                       9.0   \n",
       "139612            12                 0                       0.0   \n",
       "342805             7                 0                       2.0   \n",
       "275697            10                 0                       0.0   \n",
       "\n",
       "        cardPresent_posConditionCode  \\\n",
       "477945                           0.0   \n",
       "531502                           1.0   \n",
       "139612                           0.0   \n",
       "342805                           1.0   \n",
       "275697                           0.0   \n",
       "\n",
       "                        merchantCategoryCode_posEntryMode  \\\n",
       "477945  online_gifts_477945    9.0\\n531502    9.0\\n139...   \n",
       "531502  fastfood_477945    9.0\\n531502    9.0\\n139612 ...   \n",
       "139612  online_gifts_477945    9.0\\n531502    9.0\\n139...   \n",
       "342805  fastfood_477945    9.0\\n531502    9.0\\n139612 ...   \n",
       "275697  mobileapps_477945    9.0\\n531502    9.0\\n13961...   \n",
       "\n",
       "                    merchantCategoryCode_posConditionCode  \n",
       "477945  online_gifts_477945    1.0\\n531502    1.0\\n139...  \n",
       "531502  fastfood_477945    1.0\\n531502    1.0\\n139612 ...  \n",
       "139612  online_gifts_477945    1.0\\n531502    1.0\\n139...  \n",
       "342805  fastfood_477945    1.0\\n531502    1.0\\n139612 ...  \n",
       "275697  mobileapps_477945    1.0\\n531502    1.0\\n13961...  \n",
       "\n",
       "[5 rows x 33 columns]"
      ]
     },
     "execution_count": 8,
     "metadata": {},
     "output_type": "execute_result"
    }
   ],
   "source": [
    "X_test = preprocess(X_test)\n",
    "X_test.head()"
   ]
  },
  {
   "cell_type": "markdown",
   "metadata": {},
   "source": [
    "# Preprocess Pipeline"
   ]
  },
  {
   "cell_type": "code",
   "execution_count": 9,
   "metadata": {},
   "outputs": [],
   "source": [
    "CB_encoder = ce.CatBoostEncoder(cols=['merchantName',\n",
    "                                      'acqCountry',\n",
    "                                      'merchantCountryCode',\n",
    "                                      'merchantCategoryCode',\n",
    "                                      'transactionType',\n",
    "                                      'posEntryMode',\n",
    "                                      'posConditionCode',\n",
    "                                      'cardPresent_posEntryMode',\n",
    "                                      'cardPresent_posConditionCode',\n",
    "                                      'merchantCategoryCode_posEntryMode',\n",
    "                                      'merchantCategoryCode_posConditionCode'])\n",
    "\n",
    "CB_encoder.fit(X_train[['merchantName',\n",
    "                        'acqCountry',\n",
    "                        'merchantCountryCode',\n",
    "                        'merchantCategoryCode',\n",
    "                        'transactionType',\n",
    "                        'posEntryMode',\n",
    "                        'posConditionCode',\n",
    "                        'cardPresent_posEntryMode',\n",
    "                        'cardPresent_posConditionCode',\n",
    "                        'merchantCategoryCode_posEntryMode',\n",
    "                        'merchantCategoryCode_posConditionCode']], y_train)\n",
    "\n",
    "X_train = X_train.join(CB_encoder.transform(X_train[['merchantName',\n",
    "                                                    'acqCountry',\n",
    "                                                    'merchantCountryCode',\n",
    "                                                    'merchantCategoryCode',\n",
    "                                                    'transactionType',\n",
    "                                                    'posEntryMode',\n",
    "                                                    'posConditionCode',\n",
    "                                                    'cardPresent_posEntryMode',\n",
    "                                                    'cardPresent_posConditionCode',\n",
    "                                                    'merchantCategoryCode_posEntryMode',\n",
    "                                                    'merchantCategoryCode_posConditionCode']]).add_suffix('_cb'))"
   ]
  },
  {
   "cell_type": "code",
   "execution_count": 10,
   "metadata": {},
   "outputs": [],
   "source": [
    "X_train = X_train.drop(['merchantName', 'acqCountry', 'merchantCountryCode',\n",
    "                        'merchantCategoryCode', 'transactionType', 'posEntryMode',\n",
    "                        'posConditionCode', 'customerId', 'expirationDateKeyInMatch',\n",
    "                        'acqCountry_cb', 'cardCVV', 'enteredCVV'], axis=1)"
   ]
  },
  {
   "cell_type": "code",
   "execution_count": 11,
   "metadata": {},
   "outputs": [],
   "source": [
    "object_cols = X_train.select_dtypes('object').columns\n",
    "X_train = X_train.drop(object_cols, axis=1)"
   ]
  },
  {
   "cell_type": "code",
   "execution_count": 12,
   "metadata": {},
   "outputs": [],
   "source": [
    "date_cols = X_train.select_dtypes('datetime64').columns\n",
    "X_train = X_train.drop(date_cols, axis=1)"
   ]
  },
  {
   "cell_type": "code",
   "execution_count": 13,
   "metadata": {},
   "outputs": [],
   "source": [
    "X_train['v1'] = X_train['transactionAmount'] * X_train['merchantName_cb']\n",
    "X_train['v2'] = X_train['transactionAmount'] * X_train['merchantCategoryCode_cb']"
   ]
  },
  {
   "cell_type": "code",
   "execution_count": 14,
   "metadata": {},
   "outputs": [
    {
     "data": {
      "text/plain": [
       "Index(['transaction_id', 'accountNumber', 'creditLimit', 'availableMoney',\n",
       "       'transactionAmount', 'cardLast4Digits', 'currentBalance', 'cardPresent',\n",
       "       'transaction_hour', 'transaction_day', 'transaction_month',\n",
       "       'address_day', 'address_month', 'open_address_days',\n",
       "       'cardPresent_posEntryMode', 'cardPresent_posConditionCode',\n",
       "       'merchantName_cb', 'merchantCountryCode_cb', 'merchantCategoryCode_cb',\n",
       "       'transactionType_cb', 'posEntryMode_cb', 'posConditionCode_cb',\n",
       "       'cardPresent_posEntryMode_cb', 'cardPresent_posConditionCode_cb',\n",
       "       'merchantCategoryCode_posEntryMode_cb',\n",
       "       'merchantCategoryCode_posConditionCode_cb', 'v1', 'v2'],\n",
       "      dtype='object')"
      ]
     },
     "execution_count": 14,
     "metadata": {},
     "output_type": "execute_result"
    }
   ],
   "source": [
    "column_names = X_train.columns\n",
    "column_names"
   ]
  },
  {
   "cell_type": "code",
   "execution_count": 15,
   "metadata": {},
   "outputs": [
    {
     "data": {
      "text/plain": [
       "SimpleImputer(strategy='median')"
      ]
     },
     "execution_count": 15,
     "metadata": {},
     "output_type": "execute_result"
    }
   ],
   "source": [
    "imputer = SimpleImputer(strategy='median')\n",
    "imputer.fit(X_train)"
   ]
  },
  {
   "cell_type": "code",
   "execution_count": 16,
   "metadata": {},
   "outputs": [],
   "source": [
    "X_train = imputer.transform(X_train)"
   ]
  },
  {
   "cell_type": "code",
   "execution_count": 17,
   "metadata": {},
   "outputs": [],
   "source": [
    "#scaler = MinMaxScaler(feature_range = (0, 1))\n",
    "\n",
    "#scaler.fit(X_train)"
   ]
  },
  {
   "cell_type": "code",
   "execution_count": 18,
   "metadata": {},
   "outputs": [],
   "source": [
    "#X_train = scaler.transform(X_train)"
   ]
  },
  {
   "cell_type": "code",
   "execution_count": 19,
   "metadata": {},
   "outputs": [],
   "source": [
    "df_train = pd.DataFrame(X_train.copy(), y_train)"
   ]
  },
  {
   "cell_type": "code",
   "execution_count": 20,
   "metadata": {},
   "outputs": [
    {
     "data": {
      "text/html": [
       "<div>\n",
       "<style scoped>\n",
       "    .dataframe tbody tr th:only-of-type {\n",
       "        vertical-align: middle;\n",
       "    }\n",
       "\n",
       "    .dataframe tbody tr th {\n",
       "        vertical-align: top;\n",
       "    }\n",
       "\n",
       "    .dataframe thead th {\n",
       "        text-align: right;\n",
       "    }\n",
       "</style>\n",
       "<table border=\"1\" class=\"dataframe\">\n",
       "  <thead>\n",
       "    <tr style=\"text-align: right;\">\n",
       "      <th></th>\n",
       "      <th>isFraud</th>\n",
       "      <th>transaction_id</th>\n",
       "      <th>accountNumber</th>\n",
       "      <th>creditLimit</th>\n",
       "      <th>availableMoney</th>\n",
       "      <th>transactionAmount</th>\n",
       "      <th>cardLast4Digits</th>\n",
       "      <th>currentBalance</th>\n",
       "      <th>cardPresent</th>\n",
       "      <th>transaction_hour</th>\n",
       "      <th>...</th>\n",
       "      <th>merchantCategoryCode_cb</th>\n",
       "      <th>transactionType_cb</th>\n",
       "      <th>posEntryMode_cb</th>\n",
       "      <th>posConditionCode_cb</th>\n",
       "      <th>cardPresent_posEntryMode_cb</th>\n",
       "      <th>cardPresent_posConditionCode_cb</th>\n",
       "      <th>merchantCategoryCode_posEntryMode_cb</th>\n",
       "      <th>merchantCategoryCode_posConditionCode_cb</th>\n",
       "      <th>v1</th>\n",
       "      <th>v2</th>\n",
       "    </tr>\n",
       "  </thead>\n",
       "  <tbody>\n",
       "    <tr>\n",
       "      <td>0</td>\n",
       "      <td>False</td>\n",
       "      <td>6135491.0</td>\n",
       "      <td>770755172.0</td>\n",
       "      <td>20000.0</td>\n",
       "      <td>5903.86</td>\n",
       "      <td>36.18</td>\n",
       "      <td>8420.0</td>\n",
       "      <td>14096.14</td>\n",
       "      <td>0.0</td>\n",
       "      <td>16.0</td>\n",
       "      <td>...</td>\n",
       "      <td>0.022501</td>\n",
       "      <td>0.017808</td>\n",
       "      <td>0.007911</td>\n",
       "      <td>0.018012</td>\n",
       "      <td>0.018931</td>\n",
       "      <td>0.019286</td>\n",
       "      <td>0.022501</td>\n",
       "      <td>0.022501</td>\n",
       "      <td>0.542119</td>\n",
       "      <td>0.814082</td>\n",
       "    </tr>\n",
       "    <tr>\n",
       "      <td>1</td>\n",
       "      <td>False</td>\n",
       "      <td>5658114.0</td>\n",
       "      <td>596998124.0</td>\n",
       "      <td>15000.0</td>\n",
       "      <td>12219.69</td>\n",
       "      <td>3.22</td>\n",
       "      <td>1503.0</td>\n",
       "      <td>2780.31</td>\n",
       "      <td>1.0</td>\n",
       "      <td>6.0</td>\n",
       "      <td>...</td>\n",
       "      <td>0.020257</td>\n",
       "      <td>0.017808</td>\n",
       "      <td>0.028086</td>\n",
       "      <td>0.018012</td>\n",
       "      <td>0.023541</td>\n",
       "      <td>0.015802</td>\n",
       "      <td>0.020257</td>\n",
       "      <td>0.020257</td>\n",
       "      <td>0.014372</td>\n",
       "      <td>0.065228</td>\n",
       "    </tr>\n",
       "    <tr>\n",
       "      <td>2</td>\n",
       "      <td>False</td>\n",
       "      <td>6138910.0</td>\n",
       "      <td>946281748.0</td>\n",
       "      <td>500.0</td>\n",
       "      <td>436.93</td>\n",
       "      <td>23.30</td>\n",
       "      <td>40.0</td>\n",
       "      <td>63.07</td>\n",
       "      <td>1.0</td>\n",
       "      <td>2.0</td>\n",
       "      <td>...</td>\n",
       "      <td>0.012524</td>\n",
       "      <td>0.017808</td>\n",
       "      <td>0.007911</td>\n",
       "      <td>0.018012</td>\n",
       "      <td>0.008303</td>\n",
       "      <td>0.015802</td>\n",
       "      <td>0.012524</td>\n",
       "      <td>0.012524</td>\n",
       "      <td>0.162376</td>\n",
       "      <td>0.291807</td>\n",
       "    </tr>\n",
       "    <tr>\n",
       "      <td>3</td>\n",
       "      <td>False</td>\n",
       "      <td>5581167.0</td>\n",
       "      <td>419565181.0</td>\n",
       "      <td>2500.0</td>\n",
       "      <td>582.99</td>\n",
       "      <td>59.44</td>\n",
       "      <td>905.0</td>\n",
       "      <td>1917.01</td>\n",
       "      <td>0.0</td>\n",
       "      <td>10.0</td>\n",
       "      <td>...</td>\n",
       "      <td>0.000006</td>\n",
       "      <td>0.017808</td>\n",
       "      <td>0.007911</td>\n",
       "      <td>0.013865</td>\n",
       "      <td>0.018931</td>\n",
       "      <td>0.019286</td>\n",
       "      <td>0.000006</td>\n",
       "      <td>0.000006</td>\n",
       "      <td>0.001600</td>\n",
       "      <td>0.000347</td>\n",
       "    </tr>\n",
       "    <tr>\n",
       "      <td>4</td>\n",
       "      <td>False</td>\n",
       "      <td>5578665.0</td>\n",
       "      <td>588397240.0</td>\n",
       "      <td>500.0</td>\n",
       "      <td>449.35</td>\n",
       "      <td>50.65</td>\n",
       "      <td>8354.0</td>\n",
       "      <td>50.65</td>\n",
       "      <td>0.0</td>\n",
       "      <td>18.0</td>\n",
       "      <td>...</td>\n",
       "      <td>0.021974</td>\n",
       "      <td>0.017734</td>\n",
       "      <td>0.007911</td>\n",
       "      <td>0.013865</td>\n",
       "      <td>0.018931</td>\n",
       "      <td>0.019286</td>\n",
       "      <td>0.021974</td>\n",
       "      <td>0.021974</td>\n",
       "      <td>1.047966</td>\n",
       "      <td>1.112978</td>\n",
       "    </tr>\n",
       "    <tr>\n",
       "      <td>...</td>\n",
       "      <td>...</td>\n",
       "      <td>...</td>\n",
       "      <td>...</td>\n",
       "      <td>...</td>\n",
       "      <td>...</td>\n",
       "      <td>...</td>\n",
       "      <td>...</td>\n",
       "      <td>...</td>\n",
       "      <td>...</td>\n",
       "      <td>...</td>\n",
       "      <td>...</td>\n",
       "      <td>...</td>\n",
       "      <td>...</td>\n",
       "      <td>...</td>\n",
       "      <td>...</td>\n",
       "      <td>...</td>\n",
       "      <td>...</td>\n",
       "      <td>...</td>\n",
       "      <td>...</td>\n",
       "      <td>...</td>\n",
       "      <td>...</td>\n",
       "    </tr>\n",
       "    <tr>\n",
       "      <td>385143</td>\n",
       "      <td>False</td>\n",
       "      <td>5643709.0</td>\n",
       "      <td>353215513.0</td>\n",
       "      <td>7500.0</td>\n",
       "      <td>2170.52</td>\n",
       "      <td>141.13</td>\n",
       "      <td>2705.0</td>\n",
       "      <td>5329.48</td>\n",
       "      <td>1.0</td>\n",
       "      <td>21.0</td>\n",
       "      <td>...</td>\n",
       "      <td>0.020257</td>\n",
       "      <td>0.017808</td>\n",
       "      <td>0.028086</td>\n",
       "      <td>0.018012</td>\n",
       "      <td>0.023541</td>\n",
       "      <td>0.015802</td>\n",
       "      <td>0.020257</td>\n",
       "      <td>0.020257</td>\n",
       "      <td>1.143115</td>\n",
       "      <td>2.858902</td>\n",
       "    </tr>\n",
       "    <tr>\n",
       "      <td>385144</td>\n",
       "      <td>False</td>\n",
       "      <td>5792619.0</td>\n",
       "      <td>281253442.0</td>\n",
       "      <td>5000.0</td>\n",
       "      <td>4202.84</td>\n",
       "      <td>225.56</td>\n",
       "      <td>891.0</td>\n",
       "      <td>797.16</td>\n",
       "      <td>0.0</td>\n",
       "      <td>0.0</td>\n",
       "      <td>...</td>\n",
       "      <td>0.022501</td>\n",
       "      <td>0.017808</td>\n",
       "      <td>0.007911</td>\n",
       "      <td>0.018012</td>\n",
       "      <td>0.018931</td>\n",
       "      <td>0.019286</td>\n",
       "      <td>0.022501</td>\n",
       "      <td>0.022501</td>\n",
       "      <td>6.818838</td>\n",
       "      <td>5.075298</td>\n",
       "    </tr>\n",
       "    <tr>\n",
       "      <td>385145</td>\n",
       "      <td>False</td>\n",
       "      <td>5899279.0</td>\n",
       "      <td>741555408.0</td>\n",
       "      <td>50000.0</td>\n",
       "      <td>50000.00</td>\n",
       "      <td>24.68</td>\n",
       "      <td>9127.0</td>\n",
       "      <td>0.00</td>\n",
       "      <td>1.0</td>\n",
       "      <td>11.0</td>\n",
       "      <td>...</td>\n",
       "      <td>0.027625</td>\n",
       "      <td>0.017808</td>\n",
       "      <td>0.007911</td>\n",
       "      <td>0.018012</td>\n",
       "      <td>0.008303</td>\n",
       "      <td>0.015802</td>\n",
       "      <td>0.027625</td>\n",
       "      <td>0.027625</td>\n",
       "      <td>0.374792</td>\n",
       "      <td>0.681789</td>\n",
       "    </tr>\n",
       "    <tr>\n",
       "      <td>385146</td>\n",
       "      <td>False</td>\n",
       "      <td>5665373.0</td>\n",
       "      <td>334019691.0</td>\n",
       "      <td>15000.0</td>\n",
       "      <td>13685.28</td>\n",
       "      <td>49.04</td>\n",
       "      <td>4465.0</td>\n",
       "      <td>1314.72</td>\n",
       "      <td>1.0</td>\n",
       "      <td>8.0</td>\n",
       "      <td>...</td>\n",
       "      <td>0.000001</td>\n",
       "      <td>0.017808</td>\n",
       "      <td>0.018549</td>\n",
       "      <td>0.018012</td>\n",
       "      <td>0.016091</td>\n",
       "      <td>0.015802</td>\n",
       "      <td>0.000001</td>\n",
       "      <td>0.000001</td>\n",
       "      <td>0.007648</td>\n",
       "      <td>0.000063</td>\n",
       "    </tr>\n",
       "    <tr>\n",
       "      <td>385147</td>\n",
       "      <td>False</td>\n",
       "      <td>5655399.0</td>\n",
       "      <td>782804922.0</td>\n",
       "      <td>7500.0</td>\n",
       "      <td>6983.57</td>\n",
       "      <td>68.43</td>\n",
       "      <td>8954.0</td>\n",
       "      <td>516.43</td>\n",
       "      <td>0.0</td>\n",
       "      <td>8.0</td>\n",
       "      <td>...</td>\n",
       "      <td>0.022501</td>\n",
       "      <td>0.017808</td>\n",
       "      <td>0.007911</td>\n",
       "      <td>0.018012</td>\n",
       "      <td>0.018931</td>\n",
       "      <td>0.019286</td>\n",
       "      <td>0.022501</td>\n",
       "      <td>0.022501</td>\n",
       "      <td>1.025351</td>\n",
       "      <td>1.539735</td>\n",
       "    </tr>\n",
       "  </tbody>\n",
       "</table>\n",
       "<p>385148 rows × 29 columns</p>\n",
       "</div>"
      ],
      "text/plain": [
       "        isFraud  transaction_id  accountNumber  creditLimit  availableMoney  \\\n",
       "0         False       6135491.0    770755172.0      20000.0         5903.86   \n",
       "1         False       5658114.0    596998124.0      15000.0        12219.69   \n",
       "2         False       6138910.0    946281748.0        500.0          436.93   \n",
       "3         False       5581167.0    419565181.0       2500.0          582.99   \n",
       "4         False       5578665.0    588397240.0        500.0          449.35   \n",
       "...         ...             ...            ...          ...             ...   \n",
       "385143    False       5643709.0    353215513.0       7500.0         2170.52   \n",
       "385144    False       5792619.0    281253442.0       5000.0         4202.84   \n",
       "385145    False       5899279.0    741555408.0      50000.0        50000.00   \n",
       "385146    False       5665373.0    334019691.0      15000.0        13685.28   \n",
       "385147    False       5655399.0    782804922.0       7500.0         6983.57   \n",
       "\n",
       "        transactionAmount  cardLast4Digits  currentBalance  cardPresent  \\\n",
       "0                   36.18           8420.0        14096.14          0.0   \n",
       "1                    3.22           1503.0         2780.31          1.0   \n",
       "2                   23.30             40.0           63.07          1.0   \n",
       "3                   59.44            905.0         1917.01          0.0   \n",
       "4                   50.65           8354.0           50.65          0.0   \n",
       "...                   ...              ...             ...          ...   \n",
       "385143             141.13           2705.0         5329.48          1.0   \n",
       "385144             225.56            891.0          797.16          0.0   \n",
       "385145              24.68           9127.0            0.00          1.0   \n",
       "385146              49.04           4465.0         1314.72          1.0   \n",
       "385147              68.43           8954.0          516.43          0.0   \n",
       "\n",
       "        transaction_hour  ...  merchantCategoryCode_cb  transactionType_cb  \\\n",
       "0                   16.0  ...                 0.022501            0.017808   \n",
       "1                    6.0  ...                 0.020257            0.017808   \n",
       "2                    2.0  ...                 0.012524            0.017808   \n",
       "3                   10.0  ...                 0.000006            0.017808   \n",
       "4                   18.0  ...                 0.021974            0.017734   \n",
       "...                  ...  ...                      ...                 ...   \n",
       "385143              21.0  ...                 0.020257            0.017808   \n",
       "385144               0.0  ...                 0.022501            0.017808   \n",
       "385145              11.0  ...                 0.027625            0.017808   \n",
       "385146               8.0  ...                 0.000001            0.017808   \n",
       "385147               8.0  ...                 0.022501            0.017808   \n",
       "\n",
       "        posEntryMode_cb  posConditionCode_cb  cardPresent_posEntryMode_cb  \\\n",
       "0              0.007911             0.018012                     0.018931   \n",
       "1              0.028086             0.018012                     0.023541   \n",
       "2              0.007911             0.018012                     0.008303   \n",
       "3              0.007911             0.013865                     0.018931   \n",
       "4              0.007911             0.013865                     0.018931   \n",
       "...                 ...                  ...                          ...   \n",
       "385143         0.028086             0.018012                     0.023541   \n",
       "385144         0.007911             0.018012                     0.018931   \n",
       "385145         0.007911             0.018012                     0.008303   \n",
       "385146         0.018549             0.018012                     0.016091   \n",
       "385147         0.007911             0.018012                     0.018931   \n",
       "\n",
       "        cardPresent_posConditionCode_cb  merchantCategoryCode_posEntryMode_cb  \\\n",
       "0                              0.019286                              0.022501   \n",
       "1                              0.015802                              0.020257   \n",
       "2                              0.015802                              0.012524   \n",
       "3                              0.019286                              0.000006   \n",
       "4                              0.019286                              0.021974   \n",
       "...                                 ...                                   ...   \n",
       "385143                         0.015802                              0.020257   \n",
       "385144                         0.019286                              0.022501   \n",
       "385145                         0.015802                              0.027625   \n",
       "385146                         0.015802                              0.000001   \n",
       "385147                         0.019286                              0.022501   \n",
       "\n",
       "        merchantCategoryCode_posConditionCode_cb        v1        v2  \n",
       "0                                       0.022501  0.542119  0.814082  \n",
       "1                                       0.020257  0.014372  0.065228  \n",
       "2                                       0.012524  0.162376  0.291807  \n",
       "3                                       0.000006  0.001600  0.000347  \n",
       "4                                       0.021974  1.047966  1.112978  \n",
       "...                                          ...       ...       ...  \n",
       "385143                                  0.020257  1.143115  2.858902  \n",
       "385144                                  0.022501  6.818838  5.075298  \n",
       "385145                                  0.027625  0.374792  0.681789  \n",
       "385146                                  0.000001  0.007648  0.000063  \n",
       "385147                                  0.022501  1.025351  1.539735  \n",
       "\n",
       "[385148 rows x 29 columns]"
      ]
     },
     "execution_count": 20,
     "metadata": {},
     "output_type": "execute_result"
    }
   ],
   "source": [
    "df_train.columns = column_names\n",
    "\n",
    "df_train = df_train.reset_index()\n",
    "df_train"
   ]
  },
  {
   "cell_type": "code",
   "execution_count": 21,
   "metadata": {},
   "outputs": [
    {
     "data": {
      "text/plain": [
       "Text(0.5, 1, 'Variables Correlation Heatmap')"
      ]
     },
     "execution_count": 21,
     "metadata": {},
     "output_type": "execute_result"
    },
    {
     "data": {
      "image/png": "[encoded data removed]",
      "text/plain": [
       "<Figure size 2160x432 with 2 Axes>"
      ]
     },
     "metadata": {
      "needs_background": "light"
     },
     "output_type": "display_data"
    }
   ],
   "source": [
    "corr = df_train.corr()\n",
    "corr2 = corr.loc[:'isFraud',:]\n",
    "\n",
    "plt.figure(figsize=(30,6))\n",
    "ax = sns.heatmap(corr2, annot=True, vmin=-0.25, vmax=0.25, center=0)\n",
    "bottom, top = ax.get_ylim()\n",
    "ax.set_ylim(bottom + 0.5, top - 0.5)\n",
    "plt.title('Variables Correlation Heatmap')"
   ]
  },
  {
   "cell_type": "code",
   "execution_count": 22,
   "metadata": {},
   "outputs": [
    {
     "name": "stdout",
     "output_type": "stream",
     "text": [
      "Counter({False: 378421, True: 6727})\n",
      "Counter({False: 378421, True: 68115})\n"
     ]
    }
   ],
   "source": [
    "from collections import Counter\n",
    "from imblearn.over_sampling import SVMSMOTE\n",
    "from matplotlib import pyplot\n",
    "from numpy import where\n",
    "# summarize class distribution\n",
    "counter = Counter(y_train)\n",
    "print(counter)\n",
    "# define the undersampling method\n",
    "undersample = SVMSMOTE(sampling_strategy=0.18, random_state=42, n_jobs=4)\n",
    "# transform the dataset\n",
    "X_train_sampled, y_train_sampled = undersample.fit_resample(X_train, y_train)\n",
    "# summarize the new class distribution\n",
    "counter = Counter(y_train_sampled)\n",
    "print(counter)"
   ]
  },
  {
   "cell_type": "code",
   "execution_count": 24,
   "metadata": {},
   "outputs": [
    {
     "name": "stdout",
     "output_type": "stream",
     "text": [
      "Counter({False: 378421, True: 68115})\n",
      "Counter({False: 97307, True: 68115})\n"
     ]
    }
   ],
   "source": [
    "from collections import Counter\n",
    "from imblearn.under_sampling import RandomUnderSampler\n",
    "from matplotlib import pyplot\n",
    "from numpy import where\n",
    "# summarize class distribution\n",
    "counter = Counter(y_train_sampled)\n",
    "print(counter)\n",
    "# define the undersampling method\n",
    "undersample = RandomUnderSampler(sampling_strategy=0.7, random_state=42)\n",
    "# transform the dataset\n",
    "X_train_sampled, y_train_sampled = undersample.fit_resample(X_train_sampled, y_train_sampled)\n",
    "# summarize the new class distribution\n",
    "counter = Counter(y_train_sampled)\n",
    "print(counter)"
   ]
  },
  {
   "cell_type": "code",
   "execution_count": 25,
   "metadata": {},
   "outputs": [],
   "source": [
    "transactionAmount_test = X_test['transactionAmount']"
   ]
  },
  {
   "cell_type": "code",
   "execution_count": 26,
   "metadata": {},
   "outputs": [],
   "source": [
    "X_test = X_test.join(CB_encoder.transform(X_test[['merchantName',\n",
    "                                                    'acqCountry',\n",
    "                                                    'merchantCountryCode',\n",
    "                                                    'merchantCategoryCode',\n",
    "                                                    'transactionType',\n",
    "                                                    'posEntryMode',\n",
    "                                                    'posConditionCode',\n",
    "                                                    'cardPresent_posEntryMode',\n",
    "                                                    'cardPresent_posConditionCode',\n",
    "                                                    'merchantCategoryCode_posEntryMode',\n",
    "                                                    'merchantCategoryCode_posConditionCode']]).add_suffix('_cb'))\n",
    "\n",
    "X_test = X_test.drop(['merchantName', 'acqCountry', 'merchantCountryCode',\n",
    "                        'merchantCategoryCode', 'transactionType', 'posEntryMode',\n",
    "                        'posConditionCode', 'customerId', 'expirationDateKeyInMatch',\n",
    "                        'acqCountry_cb', 'cardCVV', 'enteredCVV'], axis=1)\n",
    "\n",
    "X_test = X_test.drop(object_cols, axis=1)\n",
    "X_test = X_test.drop(date_cols, axis=1)\n",
    "\n",
    "X_test['v1'] = X_test['transactionAmount'] * X_test['merchantName_cb']\n",
    "X_test['v2'] = X_test['transactionAmount'] * X_test['merchantCategoryCode_cb']\n",
    "\n",
    "X_test = imputer.transform(X_test)\n",
    "#X_test = scaler.transform(X_test)"
   ]
  },
  {
   "cell_type": "code",
   "execution_count": 27,
   "metadata": {},
   "outputs": [
    {
     "data": {
      "text/plain": [
       "RandomForestClassifier(n_jobs=4, random_state=42)"
      ]
     },
     "execution_count": 27,
     "metadata": {},
     "output_type": "execute_result"
    }
   ],
   "source": [
    "rf = RandomForestClassifier(n_jobs=4, random_state=42)\n",
    "rf.fit(X_train_sampled, y_train_sampled)"
   ]
  },
  {
   "cell_type": "code",
   "execution_count": 28,
   "metadata": {},
   "outputs": [
    {
     "data": {
      "text/plain": [
       "array([[246127,   6064],\n",
       "       [  3791,    784]], dtype=int64)"
      ]
     },
     "execution_count": 28,
     "metadata": {},
     "output_type": "execute_result"
    }
   ],
   "source": [
    "y_pred_rf = rf.predict(X_test)\n",
    "\n",
    "confusion_matrix(y_test, y_pred_rf)"
   ]
  },
  {
   "cell_type": "code",
   "execution_count": 29,
   "metadata": {},
   "outputs": [
    {
     "name": "stdout",
     "output_type": "stream",
     "text": [
      "              precision    recall  f1-score   support\n",
      "\n",
      "       False       0.98      0.98      0.98    252191\n",
      "        True       0.11      0.17      0.14      4575\n",
      "\n",
      "    accuracy                           0.96    256766\n",
      "   macro avg       0.55      0.57      0.56    256766\n",
      "weighted avg       0.97      0.96      0.97    256766\n",
      "\n",
      "ROC-AUC score :   0.5736604264705\n"
     ]
    }
   ],
   "source": [
    "print(classification_report(y_test, y_pred_rf))\n",
    "print('ROC-AUC score :  ', roc_auc_score(y_test, y_pred_rf))"
   ]
  },
  {
   "cell_type": "code",
   "execution_count": 30,
   "metadata": {},
   "outputs": [
    {
     "data": {
      "text/plain": [
       "<matplotlib.axes._subplots.AxesSubplot at 0x22fa1c12488>"
      ]
     },
     "execution_count": 30,
     "metadata": {},
     "output_type": "execute_result"
    },
    {
     "data": {
      "image/png": "[encoded data removed]",
      "text/plain": [
       "<Figure size 1152x864 with 1 Axes>"
      ]
     },
     "metadata": {
      "needs_background": "light"
     },
     "output_type": "display_data"
    }
   ],
   "source": [
    "plt.figure(figsize=(16,12))\n",
    "sns.barplot(y=column_names, x=rf.feature_importances_)"
   ]
  },
  {
   "cell_type": "code",
   "execution_count": 31,
   "metadata": {},
   "outputs": [
    {
     "data": {
      "text/plain": [
       "array([[250761,   1430],\n",
       "       [  4066,    509]], dtype=int64)"
      ]
     },
     "execution_count": 31,
     "metadata": {},
     "output_type": "execute_result"
    }
   ],
   "source": [
    "xgb2 = XGBClassifier(n_jobs=4, random_state=42)\n",
    "xgb2.fit(X_train_sampled, y_train_sampled)\n",
    "y_pred_xgb2 = xgb2.predict(X_test)\n",
    "\n",
    "confusion_matrix(y_test, y_pred_xgb2)"
   ]
  },
  {
   "cell_type": "code",
   "execution_count": 32,
   "metadata": {},
   "outputs": [
    {
     "name": "stdout",
     "output_type": "stream",
     "text": [
      "              precision    recall  f1-score   support\n",
      "\n",
      "       False       0.98      0.99      0.99    252191\n",
      "        True       0.26      0.11      0.16      4575\n",
      "\n",
      "    accuracy                           0.98    256766\n",
      "   macro avg       0.62      0.55      0.57    256766\n",
      "weighted avg       0.97      0.98      0.97    256766\n",
      "\n",
      "ROC-AUC score :   0.5527932625789981\n"
     ]
    }
   ],
   "source": [
    "print(classification_report(y_test, y_pred_xgb2))\n",
    "print('ROC-AUC score :  ', roc_auc_score(y_test, y_pred_xgb2))"
   ]
  },
  {
   "cell_type": "code",
   "execution_count": 33,
   "metadata": {},
   "outputs": [
    {
     "data": {
      "text/plain": [
       "<matplotlib.axes._subplots.AxesSubplot at 0x22faaf79508>"
      ]
     },
     "execution_count": 33,
     "metadata": {},
     "output_type": "execute_result"
    },
    {
     "data": {
      "image/png": "[encoded data removed]",
      "text/plain": [
       "<Figure size 1296x864 with 1 Axes>"
      ]
     },
     "metadata": {
      "needs_background": "light"
     },
     "output_type": "display_data"
    }
   ],
   "source": [
    "plt.figure(figsize=(18,12))\n",
    "sns.barplot(y=column_names, x=xgb2.feature_importances_)"
   ]
  },
  {
   "cell_type": "code",
   "execution_count": 49,
   "metadata": {},
   "outputs": [
    {
     "data": {
      "image/png": "[encoded data removed]",
      "text/plain": [
       "<Figure size 864x288 with 2 Axes>"
      ]
     },
     "metadata": {},
     "output_type": "display_data"
    },
    {
     "data": {
      "image/png": "[encoded data removed]",
      "text/plain": [
       "<Figure size 576x360 with 1 Axes>"
      ]
     },
     "metadata": {
      "needs_background": "light"
     },
     "output_type": "display_data"
    },
    {
     "name": "stdout",
     "output_type": "stream",
     "text": [
      "The total cost of this model on our test set is: $1013880\n"
     ]
    }
   ],
   "source": [
    "#record results:\n",
    "results2 = pd.DataFrame()\n",
    "results2['true_value'] = np.array(y_test) # y test\n",
    "results2['predicted'] = y_pred_xgb2# y pred\n",
    "results2['correct'] = np.where(results2.predicted == results2.true_value, 1, 0)\n",
    "results2['tI_error'] = np.where((results2.predicted == 1) & (results2.true_value == 0), 1, 0)\n",
    "results2['tII_error'] = np.where((results2.predicted == 0) & (results2.true_value == 1), 1, 0)\n",
    "\n",
    "fig, (ax1, ax2) = plt.subplots(1, 2, figsize=(12, 4))\n",
    "\n",
    "ax1.set_title('Model 2 Performance: Error Breakdown')\n",
    "lbl = ['Incorrectly Identified', \n",
    "       'Correctly Identified ({}%)'.format(str(100*results2.correct.sum()/len(results2))[:5])\n",
    "]\n",
    "sz = [results2.tII_error.sum() + results2.tI_error.sum(), results2.correct.sum()]\n",
    "clrs = ['red', 'blue']\n",
    "ax1.pie(sz, labels=lbl, colors=clrs, shadow=True, startangle=90)\n",
    "\n",
    "ax2.set_title('Error Types')\n",
    "labels = [\n",
    "    'Type I Errors (False Positives): {}'.format(results2.tI_error.sum()),\n",
    "    'Type II Errors (False Negatives): {}'.format(results2.tII_error.sum())\n",
    "]\n",
    "sizes = [\n",
    "    results2.tI_error.sum(),\n",
    "    results2.tII_error.sum()\n",
    "]\n",
    "\n",
    "ax2.pie(sizes, labels=labels, colors=['cyan', 'purple'], startangle=215, \n",
    "        autopct='%1.1f%%')\n",
    "plt.subplots_adjust(wspace=1.5)\n",
    "plt.show()\n",
    "\n",
    "results2['Amount'] = np.array(transactionAmount_test) # column amount in X test\n",
    "#type I error cost, as defined\n",
    "results2['cost_I'] = np.where(results2.tI_error == 1, (25 + 10 + (.01*results2.Amount)), 0)\n",
    "#type II error cost, as defined\n",
    "results2['cost_II'] = np.where(results2.tII_error == 1, results2.Amount, 0)\n",
    "results2['total_cost'] = results2[['cost_I', 'cost_II']].sum(axis=1)\n",
    "total_cost_I = results2.cost_I.sum()\n",
    "total_cost_II = results2.cost_II.sum()\n",
    "total_cost = total_cost_I + total_cost_II\n",
    "\n",
    "fig, ax = plt.subplots(figsize=(8, 5))\n",
    "plt.bar(\n",
    "    ['cost due to type I errors', 'cost due to type II errors', 'total cost'], \n",
    "    [total_cost_I, total_cost_II, total_cost],\n",
    "    color=['cyan', 'purple', 'green']\n",
    ");\n",
    "plt.title('Contributions to Cost');\n",
    "plt.ylabel('Cost in Dollars');\n",
    "plt.show();\n",
    "\n",
    "print(\"The total cost of this model on our test set is: ${}\".format(str(total_cost)[:7]))\n",
    "total_cost_pred = total_cost"
   ]
  },
  {
   "cell_type": "code",
   "execution_count": 46,
   "metadata": {},
   "outputs": [
    {
     "data": {
      "text/plain": [
       "915726.66"
      ]
     },
     "execution_count": 46,
     "metadata": {},
     "output_type": "execute_result"
    }
   ],
   "source": [
    "results2[(results2['true_value']==False)&(results2['predicted']==True)]['Amount'].sum()"
   ]
  },
  {
   "cell_type": "markdown",
   "metadata": {},
   "source": [
    "# Hyperparameter Optimization"
   ]
  },
  {
   "cell_type": "code",
   "execution_count": 36,
   "metadata": {},
   "outputs": [
    {
     "name": "stdout",
     "output_type": "stream",
     "text": [
      "100%|██████████| 35/35 [19:08<00:00, 32.81s/trial, best loss: -0.959787699463652] \n",
      "Best score: 0.96 \n",
      "Best space:  {'gamma': 0.15, 'x_colsample_bylevel': 17, 'x_colsample_bytree': 14, 'x_learning_rate': 27, 'x_max_depth': 4, 'x_min_child_weight': 6, 'x_n_estimators': 13, 'x_subsample': 11}\n"
     ]
    }
   ],
   "source": [
    "from xgboost import XGBClassifier\n",
    "from sklearn.model_selection import KFold\n",
    "from sklearn.model_selection import cross_val_score\n",
    "\n",
    "# Declare xgboost search space for Hyperopt\n",
    "xgboost_space={\n",
    "            'max_depth': hp.choice('x_max_depth',[2,3,4,5,6]),\n",
    "            'min_child_weight':hp.choice('x_min_child_weight',np.round(np.arange(0.0,0.2,0.01),5)),\n",
    "            'learning_rate':hp.choice('x_learning_rate',np.round(np.arange(0.005,0.3,0.01),5)),\n",
    "            'subsample':hp.choice('x_subsample',np.round(np.arange(0.1,1.0,0.05),5)),\n",
    "            'colsample_bylevel':hp.choice('x_colsample_bylevel',np.round(np.arange(0.1,1.0,0.05),5)),\n",
    "            'colsample_bytree':hp.choice('x_colsample_bytree',np.round(np.arange(0.1,1.0,0.05),5)),\n",
    "            'n_estimators':hp.choice('x_n_estimators',np.arange(25,100,5)),\n",
    "            'gamma' : hp.quniform('gamma', 0, 0.50, 0.01)\n",
    "            }\n",
    "\n",
    "best_score = 1.0\n",
    "\n",
    "def objective(space):\n",
    "    \n",
    "    global best_score\n",
    "    model = XGBClassifier(**space, n_jobs=-1)   \n",
    "    kfold = KFold(n_splits=5, random_state=42, shuffle=True)\n",
    "    score = -cross_val_score(model, X_train_sampled, y_train_sampled, cv=kfold, scoring='precision_micro', verbose=False, n_jobs=-1).mean()\n",
    "    \n",
    "    if (score < best_score):\n",
    "        best_score = score\n",
    "    \n",
    "    return score\n",
    "\n",
    "best = fmin(\n",
    "  objective, \n",
    "  space = xgboost_space, \n",
    "  algo = tpe.suggest, \n",
    "  max_evals = 35,\n",
    "  trials = Trials())\n",
    "\n",
    "print(\"Best score: %.2f \" % (-best_score))\n",
    "print(\"Best space: \", best) "
   ]
  },
  {
   "cell_type": "code",
   "execution_count": 38,
   "metadata": {},
   "outputs": [
    {
     "data": {
      "text/plain": [
       "array([[249415,   2776],\n",
       "       [  3974,    601]], dtype=int64)"
      ]
     },
     "execution_count": 38,
     "metadata": {},
     "output_type": "execute_result"
    }
   ],
   "source": [
    "from xgboost import XGBClassifier\n",
    "xgb_opt = XGBClassifier(n_estimators = np.arange(25,100,5)[best['x_n_estimators']],\n",
    "                            max_depth = [2,3,4,5,6][best['x_max_depth']],\n",
    "                            learning_rate = np.round(np.arange(0.005,0.3,0.01),5)[best['x_learning_rate']],\n",
    "                            colsample_bylevel = np.round(np.arange(0.1,1.0,0.05),5)[best['x_colsample_bylevel']],\n",
    "                            min_child_weight = np.round(np.arange(0.0,0.2,0.01),5)[best['x_min_child_weight']],\n",
    "                            subsample = np.round(np.arange(0.1,1.0,0.05),5)[best['x_subsample']],\n",
    "                            colsample_bytree = np.round(np.arange(0.1,1.0,0.05),5)[best['x_colsample_bytree']],\n",
    "                        gamma = best['gamma']\n",
    "                            )\n",
    "\n",
    "xgb_opt.fit(X_train_sampled, y_train_sampled)\n",
    "y_pred_xgb_opt = xgb_opt.predict(X_test)\n",
    "\n",
    "confusion_matrix(y_test, y_pred_xgb_opt)"
   ]
  },
  {
   "cell_type": "code",
   "execution_count": 39,
   "metadata": {},
   "outputs": [
    {
     "name": "stdout",
     "output_type": "stream",
     "text": [
      "              precision    recall  f1-score   support\n",
      "\n",
      "       False       0.98      0.99      0.99    252191\n",
      "        True       0.18      0.13      0.15      4575\n",
      "\n",
      "    accuracy                           0.97    256766\n",
      "   macro avg       0.58      0.56      0.57    256766\n",
      "weighted avg       0.97      0.97      0.97    256766\n",
      "\n",
      "ROC-AUC score :   0.5601792951057804\n"
     ]
    }
   ],
   "source": [
    "print(classification_report(y_test, y_pred_xgb_opt))\n",
    "print('ROC-AUC score :  ', roc_auc_score(y_test, y_pred_xgb_opt))"
   ]
  },
  {
   "cell_type": "code",
   "execution_count": 40,
   "metadata": {},
   "outputs": [
    {
     "data": {
      "image/png": "[encoded data removed]",
      "text/plain": [
       "<Figure size 864x288 with 2 Axes>"
      ]
     },
     "metadata": {},
     "output_type": "display_data"
    },
    {
     "data": {
      "image/png": "[encoded data removed]",
      "text/plain": [
       "<Figure size 576x360 with 1 Axes>"
      ]
     },
     "metadata": {
      "needs_background": "light"
     },
     "output_type": "display_data"
    },
    {
     "name": "stdout",
     "output_type": "stream",
     "text": [
      "The total cost of this model on our test set is: $1025731\n"
     ]
    }
   ],
   "source": [
    "#record results:\n",
    "results2 = pd.DataFrame()\n",
    "results2['true_value'] = np.array(y_test) # y test\n",
    "results2['predicted'] = y_pred_xgb_opt# y pred\n",
    "results2['correct'] = np.where(results2.predicted == results2.true_value, 1, 0)\n",
    "results2['tI_error'] = np.where((results2.predicted == 1) & (results2.true_value == 0), 1, 0)\n",
    "results2['tII_error'] = np.where((results2.predicted == 0) & (results2.true_value == 1), 1, 0)\n",
    "\n",
    "fig, (ax1, ax2) = plt.subplots(1, 2, figsize=(12, 4))\n",
    "\n",
    "ax1.set_title('Model 2 Performance: Error Breakdown')\n",
    "lbl = ['Incorrectly Identified', \n",
    "       'Correctly Identified ({}%)'.format(str(100*results2.correct.sum()/len(results2))[:5])\n",
    "]\n",
    "sz = [results2.tII_error.sum() + results2.tI_error.sum(), results2.correct.sum()]\n",
    "clrs = ['red', 'blue']\n",
    "ax1.pie(sz, labels=lbl, colors=clrs, shadow=True, startangle=90)\n",
    "\n",
    "ax2.set_title('Error Types')\n",
    "labels = [\n",
    "    'Type I Errors (False Positives): {}'.format(results2.tI_error.sum()),\n",
    "    'Type II Errors (False Negatives): {}'.format(results2.tII_error.sum())\n",
    "]\n",
    "sizes = [\n",
    "    results2.tI_error.sum(),\n",
    "    results2.tII_error.sum()\n",
    "]\n",
    "\n",
    "ax2.pie(sizes, labels=labels, colors=['cyan', 'purple'], startangle=215, \n",
    "        autopct='%1.1f%%')\n",
    "plt.subplots_adjust(wspace=1.5)\n",
    "plt.show()\n",
    "\n",
    "results2['Amount'] = np.array(transactionAmount_test) # column amount in X test\n",
    "#type I error cost, as defined\n",
    "results2['cost_I'] = np.where(results2.tI_error == 1, (25 + 10 + (.01*results2.Amount)), 0)\n",
    "#type II error cost, as defined\n",
    "results2['cost_II'] = np.where(results2.tII_error == 1, results2.Amount, 0)\n",
    "results2['total_cost'] = results2[['cost_I', 'cost_II']].sum(axis=1)\n",
    "total_cost_I = results2.cost_I.sum()\n",
    "total_cost_II = results2.cost_II.sum()\n",
    "total_cost = total_cost_I + total_cost_II\n",
    "\n",
    "fig, ax = plt.subplots(figsize=(8, 5))\n",
    "plt.bar(\n",
    "    ['cost due to type I errors', 'cost due to type II errors', 'total cost'], \n",
    "    [total_cost_I, total_cost_II, total_cost],\n",
    "    color=['cyan', 'purple', 'green']\n",
    ");\n",
    "plt.title('Contributions to Cost');\n",
    "plt.ylabel('Cost in Dollars');\n",
    "plt.show();\n",
    "\n",
    "print(\"The total cost of this model on our test set is: ${}\".format(str(total_cost)[:7]))\n",
    "total_cost_pred = total_cost"
   ]
  },
  {
   "cell_type": "markdown",
   "metadata": {},
   "source": [
    "# PCA"
   ]
  },
  {
   "cell_type": "code",
   "execution_count": 44,
   "metadata": {},
   "outputs": [
    {
     "data": {
      "text/plain": [
       "PCA(n_components=12)"
      ]
     },
     "execution_count": 44,
     "metadata": {},
     "output_type": "execute_result"
    }
   ],
   "source": [
    "from sklearn.decomposition import PCA\n",
    "pca = PCA(n_components=12)\n",
    "pca.fit(X_train_sampled)"
   ]
  },
  {
   "cell_type": "code",
   "execution_count": 54,
   "metadata": {},
   "outputs": [
    {
     "data": {
      "image/png": "[encoded data removed]",
      "text/plain": [
       "<Figure size 864x432 with 1 Axes>"
      ]
     },
     "metadata": {
      "needs_background": "light"
     },
     "output_type": "display_data"
    }
   ],
   "source": [
    "pca = PCA().fit(X_train_sampled)\n",
    "\n",
    "%matplotlib inline\n",
    "import matplotlib.pyplot as plt\n",
    "plt.rcParams[\"figure.figsize\"] = (12,6)\n",
    "\n",
    "fig, ax = plt.subplots()\n",
    "xi = np.arange(1, 29, step=1)\n",
    "y = np.cumsum(pca.explained_variance_ratio_)\n",
    "\n",
    "plt.ylim(0.0,1.1)\n",
    "plt.plot(xi, y, marker='o', linestyle='--', color='b')\n",
    "\n",
    "plt.xlabel('Number of Components')\n",
    "plt.xticks(np.arange(0, 28, step=1)) #change from 0-based array index to 1-based human-readable label\n",
    "plt.ylabel('Cumulative variance (%)')\n",
    "plt.title('The number of components needed to explain variance')\n",
    "\n",
    "plt.axhline(y=0.95, color='r', linestyle='-')\n",
    "plt.text(0.5, 0.85, '95% cut-off threshold', color = 'red', fontsize=16)\n",
    "\n",
    "ax.grid(axis='x')\n",
    "plt.show()"
   ]
  },
  {
   "cell_type": "code",
   "execution_count": 45,
   "metadata": {},
   "outputs": [],
   "source": [
    "X_train_pca = pca.transform(X_train_sampled)\n",
    "X_test_pca = pca.transform(X_test)"
   ]
  },
  {
   "cell_type": "code",
   "execution_count": 46,
   "metadata": {},
   "outputs": [
    {
     "data": {
      "text/plain": [
       "array([[234864,  17327],\n",
       "       [  3586,    989]], dtype=int64)"
      ]
     },
     "execution_count": 46,
     "metadata": {},
     "output_type": "execute_result"
    }
   ],
   "source": [
    "rf.fit(X_train_pca, y_train_sampled)\n",
    "y_pred_rf = rf.predict(X_test_pca)\n",
    "confusion_matrix(y_test, y_pred_rf)"
   ]
  },
  {
   "cell_type": "code",
   "execution_count": 47,
   "metadata": {},
   "outputs": [
    {
     "name": "stdout",
     "output_type": "stream",
     "text": [
      "              precision    recall  f1-score   support\n",
      "\n",
      "       False       0.98      0.93      0.96    252191\n",
      "        True       0.05      0.22      0.09      4575\n",
      "\n",
      "    accuracy                           0.92    256766\n",
      "   macro avg       0.52      0.57      0.52    256766\n",
      "weighted avg       0.97      0.92      0.94    256766\n",
      "\n",
      "ROC-AUC score :   0.5737345007805147\n"
     ]
    }
   ],
   "source": [
    "print(classification_report(y_test, y_pred_rf))\n",
    "print('ROC-AUC score :  ', roc_auc_score(y_test, y_pred_rf))"
   ]
  },
  {
   "cell_type": "code",
   "execution_count": 48,
   "metadata": {},
   "outputs": [
    {
     "data": {
      "text/plain": [
       "array([[220744,  31447],\n",
       "       [  3062,   1513]], dtype=int64)"
      ]
     },
     "execution_count": 48,
     "metadata": {},
     "output_type": "execute_result"
    }
   ],
   "source": [
    "xgb2 = XGBClassifier(n_jobs=4)\n",
    "xgb2.fit(X_train_pca, y_train_sampled)\n",
    "y_pred_xgb2 = xgb2.predict(X_test_pca)\n",
    "\n",
    "confusion_matrix(y_test, y_pred_xgb2)"
   ]
  },
  {
   "cell_type": "code",
   "execution_count": 49,
   "metadata": {},
   "outputs": [
    {
     "name": "stdout",
     "output_type": "stream",
     "text": [
      "              precision    recall  f1-score   support\n",
      "\n",
      "       False       0.99      0.88      0.93    252191\n",
      "        True       0.05      0.33      0.08      4575\n",
      "\n",
      "    accuracy                           0.87    256766\n",
      "   macro avg       0.52      0.60      0.50    256766\n",
      "weighted avg       0.97      0.87      0.91    256766\n",
      "\n",
      "ROC-AUC score :   0.6030076054984174\n"
     ]
    }
   ],
   "source": [
    "print(classification_report(y_test, y_pred_xgb2))\n",
    "print('ROC-AUC score :  ', roc_auc_score(y_test, y_pred_xgb2))"
   ]
  },
  {
   "cell_type": "code",
   "execution_count": null,
   "metadata": {},
   "outputs": [],
   "source": []
  }
 ],
 "metadata": {
  "kernelspec": {
   "display_name": "Python 3",
   "language": "python",
   "name": "python3"
  },
  "language_info": {
   "codemirror_mode": {
    "name": "ipython",
    "version": 3
   },
   "file_extension": ".py",
   "mimetype": "text/x-python",
   "name": "python",
   "nbconvert_exporter": "python",
   "pygments_lexer": "ipython3",
   "version": "3.7.4"
  }
 },
 "nbformat": 4,
 "nbformat_minor": 2
}
